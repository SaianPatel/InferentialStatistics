{
 "cells": [
  {
   "cell_type": "markdown",
   "metadata": {},
   "source": [
    "## 2. Verifying the CLT & LLN"
   ]
  },
  {
   "cell_type": "code",
   "execution_count": 1,
   "metadata": {},
   "outputs": [],
   "source": [
    "# Import required modules\n",
    "import pandas as pd\n",
    "import numpy as np\n",
    "import matplotlib.pyplot as plt\n",
    "import scipy.stats as stats"
   ]
  },
  {
   "cell_type": "code",
   "execution_count": 2,
   "metadata": {},
   "outputs": [],
   "source": [
    "# Load the dataset\n",
    "df = pd.read_csv(\"Data/winequality-red.csv\")"
   ]
  },
  {
   "cell_type": "code",
   "execution_count": null,
   "metadata": {},
   "outputs": [],
   "source": [
    "# Select the variable to demonstrate the CLT\n",
    "x = 'alcohol'\n",
    "#\n",
    "population = df[x].dropna().values  # Remove NaN values if any"
   ]
  },
  {
   "cell_type": "code",
   "execution_count": null,
   "metadata": {},
   "outputs": [],
   "source": [
    "# Define sample sizes\n",
    "sample_sizes = [10, 50, 200, 500]\n",
    "\n",
    "# Define number of resamples per sample size\n",
    "num_samples = 10000"
   ]
  },
  {
   "cell_type": "code",
   "execution_count": null,
   "metadata": {},
   "outputs": [],
   "source": [
    "# Dictionary to store sample means\n",
    "sample_means = {size: [] for size in sample_sizes}\n",
    "\n",
    "# Generate sample means for each sample size\n",
    "for size in sample_sizes:\n",
    "    for _ in range(num_samples):\n",
    "        sample = np.random.choice(population, size=size, replace=True)  # Bootstrap resampling\n",
    "        sample_means[size].append(np.mean(sample))\n",
    "\n",
    "# Compute population mean and standard deviation\n",
    "pop_mean = np.mean(df)\n",
    "pop_std = np.std(df, ddof=1)  # Using sample standard deviation formula\n",
    "\n",
    "# Plot histograms of sample means with theoretical normal distribution\n",
    "plt.figure(figsize=(12, 6))\n",
    "\n",
    "for i, size in enumerate(sample_sizes):\n",
    "    plt.subplot(1, len(sample_sizes), i + 1)\n",
    "    \n",
    "    # Plot histogram of sample means\n",
    "    plt.hist(sample_means[size], bins=30, alpha=0.6, color=\"blue\", edgecolor=\"black\", density=True, label=\"Sample Means\")\n",
    "    \n",
    "    # Compute theoretical normal distribution\n",
    "    mean_sample_means = np.mean(sample_means[size])  # Mean of sample means\n",
    "    std_sample_means = pop_std / np.sqrt(size)  # Standard Error of the Mean (SEM)\n",
    "    \n",
    "    # Generate x values for normal curve\n",
    "    x_values = np.linspace(min(sample_means[size]), max(sample_means[size]), 100)\n",
    "    y_values = stats.norm.pdf(x_values, mean_sample_means, std_sample_means)\n",
    "    \n",
    "    # Plot theoretical normal distribution\n",
    "    plt.plot(x_values, y_values, color=\"red\", linestyle=\"dashed\", linewidth=2, label=\"Normal Distribution\")\n",
    "\n",
    "    # Set the same x-axis limits for all plots\n",
    "    plt.xlim(9.5, 11.5)\n",
    "\n",
    "    # Formatting\n",
    "    plt.title(f\"Sample Size = {size}\")\n",
    "    plt.xlabel(\"Sample Mean\")\n",
    "    plt.ylabel(\"Density\")\n",
    "    plt.legend()\n",
    "\n",
    "plt.suptitle(\"Demonstration of Central Limit Theorem (CLT) with Theoretical Normal Distributions\")\n",
    "plt.tight_layout()\n",
    "plt.show()"
   ]
  }
 ],
 "metadata": {
  "kernelspec": {
   "display_name": "Python 3",
   "language": "python",
   "name": "python3"
  },
  "language_info": {
   "codemirror_mode": {
    "name": "ipython",
    "version": 3
   },
   "file_extension": ".py",
   "mimetype": "text/x-python",
   "name": "python",
   "nbconvert_exporter": "python",
   "pygments_lexer": "ipython3",
   "version": "3.12.9"
  }
 },
 "nbformat": 4,
 "nbformat_minor": 2
}
