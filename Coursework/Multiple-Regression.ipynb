{
 "cells": [
  {
   "cell_type": "code",
   "execution_count": 1,
   "metadata": {},
   "outputs": [],
   "source": [
    "import numpy as np\n",
    "import matplotlib.pyplot as plt\n",
    "from scipy.stats import linregress\n",
    "import pandas as pd\n",
    "import statsmodels.api as sm"
   ]
  },
  {
   "cell_type": "code",
   "execution_count": 3,
   "metadata": {},
   "outputs": [],
   "source": [
    "# Load the dataset\n",
    "df = pd.read_csv(\"Data/winequality-red.csv\")"
   ]
  },
  {
   "cell_type": "code",
   "execution_count": 9,
   "metadata": {},
   "outputs": [],
   "source": [
    "# Choose x's and y\n",
    "X = df[['alcohol', 'volatile acidity', 'sulphates']].to_numpy()\n",
    "y = df['quality'].dropna()"
   ]
  },
  {
   "cell_type": "code",
   "execution_count": 10,
   "metadata": {},
   "outputs": [
    {
     "name": "stdout",
     "output_type": "stream",
     "text": [
      "                            OLS Regression Results                            \n",
      "==============================================================================\n",
      "Dep. Variable:                quality   R-squared:                       0.336\n",
      "Model:                            OLS   Adj. R-squared:                  0.335\n",
      "Method:                 Least Squares   F-statistic:                     268.9\n",
      "Date:                Sat, 15 Mar 2025   Prob (F-statistic):          3.16e-141\n",
      "Time:                        17:35:35   Log-Likelihood:                -1599.4\n",
      "No. Observations:                1599   AIC:                             3207.\n",
      "Df Residuals:                    1595   BIC:                             3228.\n",
      "Df Model:                           3                                         \n",
      "Covariance Type:            nonrobust                                         \n",
      "==============================================================================\n",
      "                 coef    std err          t      P>|t|      [0.025      0.975]\n",
      "------------------------------------------------------------------------------\n",
      "const          2.6108      0.196     13.342      0.000       2.227       2.995\n",
      "x1             0.3092      0.016     19.566      0.000       0.278       0.340\n",
      "x2            -1.2214      0.097    -12.591      0.000      -1.412      -1.031\n",
      "x3             0.6790      0.101      6.737      0.000       0.481       0.877\n",
      "==============================================================================\n",
      "Omnibus:                       22.086   Durbin-Watson:                   1.736\n",
      "Prob(Omnibus):                  0.000   Jarque-Bera (JB):               34.420\n",
      "Skew:                          -0.109   Prob(JB):                     3.36e-08\n",
      "Kurtosis:                       3.685   Cond. No.                         133.\n",
      "==============================================================================\n",
      "\n",
      "Notes:\n",
      "[1] Standard Errors assume that the covariance matrix of the errors is correctly specified.\n"
     ]
    }
   ],
   "source": [
    "# Fit the model\n",
    "X = sm.add_constant(X)\n",
    "model = sm.OLS(y, X).fit()\n",
    "print(model.summary())"
   ]
  }
 ],
 "metadata": {
  "kernelspec": {
   "display_name": "Python 3",
   "language": "python",
   "name": "python3"
  },
  "language_info": {
   "codemirror_mode": {
    "name": "ipython",
    "version": 3
   },
   "file_extension": ".py",
   "mimetype": "text/x-python",
   "name": "python",
   "nbconvert_exporter": "python",
   "pygments_lexer": "ipython3",
   "version": "3.12.9"
  }
 },
 "nbformat": 4,
 "nbformat_minor": 2
}
