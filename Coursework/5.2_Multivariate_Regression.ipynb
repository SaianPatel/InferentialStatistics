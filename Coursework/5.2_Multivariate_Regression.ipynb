{
 "cells": [
  {
   "cell_type": "markdown",
   "metadata": {},
   "source": [
    "## 5.2. Multivariate Regression"
   ]
  },
  {
   "cell_type": "code",
   "execution_count": 2,
   "metadata": {},
   "outputs": [],
   "source": [
    "# Import required modules\n",
    "import numpy as np\n",
    "import matplotlib.pyplot as plt\n",
    "from scipy.stats import linregress\n",
    "import pandas as pd\n",
    "import statsmodels.api as sm\n",
    "from statsmodels.stats.outliers_influence import variance_inflation_factor"
   ]
  },
  {
   "cell_type": "code",
   "execution_count": 3,
   "metadata": {},
   "outputs": [
    {
     "name": "stderr",
     "output_type": "stream",
     "text": [
      "<>:2: SyntaxWarning: invalid escape sequence '\\w'\n",
      "<>:2: SyntaxWarning: invalid escape sequence '\\w'\n",
      "C:\\Users\\Saian\\AppData\\Local\\Temp\\ipykernel_4972\\1194014973.py:2: SyntaxWarning: invalid escape sequence '\\w'\n",
      "  df = pd.read_csv(\"Data\\winequality-red.csv\")\n"
     ]
    }
   ],
   "source": [
    "# Load the dataset\n",
    "df = pd.read_csv(\"Data\\winequality-red.csv\")"
   ]
  },
  {
   "cell_type": "markdown",
   "metadata": {},
   "source": [
    "### 5.2.1. Feature Selection"
   ]
  },
  {
   "cell_type": "markdown",
   "metadata": {},
   "source": [
    "Perform a Variance Inflation Factor (VIF) analysis (on all variables) to examine multicollinearity."
   ]
  },
  {
   "cell_type": "code",
   "execution_count": 4,
   "metadata": {},
   "outputs": [
    {
     "name": "stdout",
     "output_type": "stream",
     "text": [
      "                 Feature       VIF\n",
      "1          fixed acidity  7.767512\n",
      "2                density  6.343760\n",
      "3       volatile acidity  1.789390\n",
      "4            citric acid  3.128022\n",
      "5         residual sugar  1.702588\n",
      "6              chlorides  1.481932\n",
      "7    free sulfur dioxide  1.963019\n",
      "8   total sulfur dioxide  2.186813\n",
      "9                     pH  3.329732\n",
      "10             sulphates  1.429434\n",
      "11               alcohol  3.031160\n"
     ]
    }
   ],
   "source": [
    "# Select independent variables (excluding 'quality' since it's the target variable)\n",
    "features = [ 'fixed acidity', 'density','volatile acidity', 'citric acid', 'residual sugar', \n",
    "            'chlorides', 'free sulfur dioxide', 'total sulfur dioxide',\n",
    "            'pH', 'sulphates', 'alcohol']\n",
    "\n",
    "# Prepare the feature matrix for VIF calculation\n",
    "X = df[features].dropna()  # Remove any missing values if present\n",
    "X = sm.add_constant(X)  # Add intercept term (required for statsmodels' VIF calculation)\n",
    "\n",
    "# Compute VIF for each feature\n",
    "vif_data = pd.DataFrame({\n",
    "    \"Feature\": X.columns,\n",
    "    \"VIF\": [variance_inflation_factor(X.values, i) for i in range(X.shape[1])]\n",
    "})\n",
    "\n",
    "# Drop the constant term from results\n",
    "vif_data = vif_data[vif_data[\"Feature\"] != \"const\"]\n",
    "\n",
    "# Display the results\n",
    "print(vif_data)\n"
   ]
  },
  {
   "cell_type": "markdown",
   "metadata": {},
   "source": [
    "Remove variables with VIF > 5 one by one and observe the effect on VIF."
   ]
  },
  {
   "cell_type": "code",
   "execution_count": 5,
   "metadata": {},
   "outputs": [
    {
     "name": "stdout",
     "output_type": "stream",
     "text": [
      "                 Feature       VIF\n",
      "1                density  2.430096\n",
      "2       volatile acidity  1.784963\n",
      "3            citric acid  2.780557\n",
      "4         residual sugar  1.386375\n",
      "5              chlorides  1.401232\n",
      "6    free sulfur dioxide  1.939209\n",
      "7   total sulfur dioxide  2.069396\n",
      "8                     pH  1.610775\n",
      "9              sulphates  1.396382\n",
      "10               alcohol  2.136067\n"
     ]
    }
   ],
   "source": [
    "# Removing fixed acidity\n",
    "features = [ 'density','volatile acidity', 'citric acid', 'residual sugar', \n",
    "            'chlorides', 'free sulfur dioxide', 'total sulfur dioxide',\n",
    "            'pH', 'sulphates', 'alcohol']\n",
    "\n",
    "# Prepare the feature matrix for VIF calculation\n",
    "X = df[features].dropna()  # Remove any missing values if present\n",
    "X = sm.add_constant(X)  # Add intercept term (required for statsmodels' VIF calculation)\n",
    "\n",
    "# Compute VIF for each feature\n",
    "vif_data = pd.DataFrame({\n",
    "    \"Feature\": X.columns,\n",
    "    \"VIF\": [variance_inflation_factor(X.values, i) for i in range(X.shape[1])]\n",
    "})\n",
    "\n",
    "# Drop the constant term from results\n",
    "vif_data = vif_data[vif_data[\"Feature\"] != \"const\"]\n",
    "\n",
    "# Display the results\n",
    "print(vif_data)\n"
   ]
  },
  {
   "cell_type": "code",
   "execution_count": 6,
   "metadata": {},
   "outputs": [
    {
     "name": "stdout",
     "output_type": "stream",
     "text": [
      "                 Feature       VIF\n",
      "1          fixed acidity  2.975491\n",
      "2       volatile acidity  1.759879\n",
      "3            citric acid  3.127791\n",
      "4         residual sugar  1.099433\n",
      "5              chlorides  1.468893\n",
      "6    free sulfur dioxide  1.948691\n",
      "7   total sulfur dioxide  2.173240\n",
      "8                     pH  2.239412\n",
      "9              sulphates  1.341524\n",
      "10               alcohol  1.299603\n"
     ]
    }
   ],
   "source": [
    "# Removing density\n",
    "features = [ 'fixed acidity','volatile acidity', 'citric acid', 'residual sugar', \n",
    "            'chlorides', 'free sulfur dioxide', 'total sulfur dioxide',\n",
    "            'pH', 'sulphates', 'alcohol']\n",
    "\n",
    "# Prepare the feature matrix for VIF calculation\n",
    "X = df[features].dropna()  # Remove any missing values if present\n",
    "X = sm.add_constant(X)  # Add intercept term (required for statsmodels' VIF calculation)\n",
    "\n",
    "# Compute VIF for each feature\n",
    "vif_data = pd.DataFrame({\n",
    "    \"Feature\": X.columns,\n",
    "    \"VIF\": [variance_inflation_factor(X.values, i) for i in range(X.shape[1])]\n",
    "})\n",
    "\n",
    "# Drop the constant term from results\n",
    "vif_data = vif_data[vif_data[\"Feature\"] != \"const\"]\n",
    "\n",
    "# Display the results\n",
    "print(vif_data)\n"
   ]
  },
  {
   "cell_type": "markdown",
   "metadata": {},
   "source": [
    "### 5.2.2. Fitting the Model"
   ]
  },
  {
   "cell_type": "code",
   "execution_count": 7,
   "metadata": {},
   "outputs": [],
   "source": [
    "# Choose x's and y\n",
    "X = df[['alcohol', 'volatile acidity', 'sulphates']].to_numpy()\n",
    "y = df['quality'].dropna()"
   ]
  },
  {
   "cell_type": "code",
   "execution_count": 8,
   "metadata": {},
   "outputs": [
    {
     "name": "stdout",
     "output_type": "stream",
     "text": [
      "                            OLS Regression Results                            \n",
      "==============================================================================\n",
      "Dep. Variable:                quality   R-squared:                       0.336\n",
      "Model:                            OLS   Adj. R-squared:                  0.335\n",
      "Method:                 Least Squares   F-statistic:                     268.9\n",
      "Date:                Sun, 16 Mar 2025   Prob (F-statistic):          3.16e-141\n",
      "Time:                        13:29:18   Log-Likelihood:                -1599.4\n",
      "No. Observations:                1599   AIC:                             3207.\n",
      "Df Residuals:                    1595   BIC:                             3228.\n",
      "Df Model:                           3                                         \n",
      "Covariance Type:            nonrobust                                         \n",
      "==============================================================================\n",
      "                 coef    std err          t      P>|t|      [0.025      0.975]\n",
      "------------------------------------------------------------------------------\n",
      "const          2.6108      0.196     13.342      0.000       2.227       2.995\n",
      "x1             0.3092      0.016     19.566      0.000       0.278       0.340\n",
      "x2            -1.2214      0.097    -12.591      0.000      -1.412      -1.031\n",
      "x3             0.6790      0.101      6.737      0.000       0.481       0.877\n",
      "==============================================================================\n",
      "Omnibus:                       22.086   Durbin-Watson:                   1.736\n",
      "Prob(Omnibus):                  0.000   Jarque-Bera (JB):               34.420\n",
      "Skew:                          -0.109   Prob(JB):                     3.36e-08\n",
      "Kurtosis:                       3.685   Cond. No.                         133.\n",
      "==============================================================================\n",
      "\n",
      "Notes:\n",
      "[1] Standard Errors assume that the covariance matrix of the errors is correctly specified.\n"
     ]
    }
   ],
   "source": [
    "# Fit the model\n",
    "X = sm.add_constant(X)\n",
    "model = sm.OLS(y, X).fit()\n",
    "print(model.summary())"
   ]
  }
 ],
 "metadata": {
  "kernelspec": {
   "display_name": "Python 3",
   "language": "python",
   "name": "python3"
  },
  "language_info": {
   "codemirror_mode": {
    "name": "ipython",
    "version": 3
   },
   "file_extension": ".py",
   "mimetype": "text/x-python",
   "name": "python",
   "nbconvert_exporter": "python",
   "pygments_lexer": "ipython3",
   "version": "3.12.9"
  }
 },
 "nbformat": 4,
 "nbformat_minor": 2
}
