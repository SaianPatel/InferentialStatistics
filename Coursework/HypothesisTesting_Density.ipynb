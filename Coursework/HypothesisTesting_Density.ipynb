{
 "cells": [
  {
   "cell_type": "code",
   "execution_count": 1,
   "metadata": {},
   "outputs": [],
   "source": [
    "import pandas as pd\n",
    "import numpy as np\n",
    "import scipy.stats as stats\n",
    "import matplotlib.pyplot as plt"
   ]
  },
  {
   "cell_type": "code",
   "execution_count": 2,
   "metadata": {},
   "outputs": [
    {
     "name": "stderr",
     "output_type": "stream",
     "text": [
      "<>:2: SyntaxWarning: invalid escape sequence '\\w'\n",
      "<>:2: SyntaxWarning: invalid escape sequence '\\w'\n",
      "C:\\Users\\Saian\\AppData\\Local\\Temp\\ipykernel_21716\\1186338799.py:2: SyntaxWarning: invalid escape sequence '\\w'\n",
      "  file_path = \"Data\\winequality-red.csv\"  # Update if needed\n"
     ]
    }
   ],
   "source": [
    "# Load the dataset\n",
    "file_path = \"Data\\winequality-red.csv\"  # Update if needed\n",
    "df = pd.read_csv(file_path)"
   ]
  },
  {
   "cell_type": "code",
   "execution_count": 3,
   "metadata": {},
   "outputs": [
    {
     "name": "stdout",
     "output_type": "stream",
     "text": [
      "Mean density: 0.9967466791744841\n"
     ]
    }
   ],
   "source": [
    "# Get density column\n",
    "density = df['density'].dropna()\n",
    "\n",
    "# Print mean density for sanity\n",
    "mean_density = np.mean(density)\n",
    "print(f\"Mean density: {mean_density}\")"
   ]
  },
  {
   "cell_type": "code",
   "execution_count": 4,
   "metadata": {},
   "outputs": [
    {
     "name": "stdout",
     "output_type": "stream",
     "text": [
      "Entries: 1599\n"
     ]
    }
   ],
   "source": [
    "\n",
    "# Count how many entries\n",
    "nEntries = density.count()\n",
    "print(f\"Entries: {nEntries}\")\n"
   ]
  },
  {
   "cell_type": "code",
   "execution_count": 11,
   "metadata": {},
   "outputs": [
    {
     "name": "stdout",
     "output_type": "stream",
     "text": [
      "One-sample t-test against a hpothesised mean\n",
      "t_stat =  -5.3671826307001\n",
      "p_value =  9.172739597506508e-08\n",
      "\n",
      "Conclusion: Reject the null hypothesis (H₀).\n"
     ]
    }
   ],
   "source": [
    "# Perform a t-test against the hypothesised mean\n",
    "mu = 0.997\n",
    "# mu = (0.9912 + 1.0138) / 2\n",
    "t_stat, p_value = stats.ttest_1samp(density, popmean=mu)\n",
    "\n",
    "# Display the results\n",
    "print(\"One-sample t-test against a hpothesised mean\")\n",
    "print(\"t_stat = \", t_stat)\n",
    "print(\"p_value = \", p_value)\n",
    "\n",
    "# Check against the significance level\n",
    "alpha = 0.05\n",
    "if p_value < alpha:\n",
    "    print(\"\\nConclusion: Reject the null hypothesis (H₀).\")\n",
    "else:\n",
    "    print(\"\\nConclusion: Fail to reject the null hypothesis (H₀).\")"
   ]
  },
  {
   "cell_type": "code",
   "execution_count": 13,
   "metadata": {},
   "outputs": [
    {
     "name": "stdout",
     "output_type": "stream",
     "text": [
      "One-sample t-test against a hpothesised mean\n",
      "t_stat =  -121.93543042881159\n",
      "p_value =  1.0\n",
      "\n",
      "Conclusion: Fail to reject the null hypothesis (H₀).\n"
     ]
    }
   ],
   "source": [
    "# Single tail test\n",
    "mu = 1.0025\n",
    "alpha = 0.05\n",
    "\n",
    "dof = nEntries - 1\n",
    "\n",
    "# Get the sample mean and std\n",
    "sample_mean = np.mean(density)\n",
    "sample_std = np.std(density)\n",
    "\n",
    "# Compute standard error SE\n",
    "SE = sample_std / np.sqrt(nEntries)\n",
    "\n",
    "# Get the test statistic\n",
    "t_stat = (sample_mean - mu) / SE\n",
    "\n",
    "# p-value for right-tailed test:\n",
    "if t_stat > 0:\n",
    "    p_value = 1 - stats.t.cdf(t_stat, dof)\n",
    "\n",
    "else:\n",
    "    p_value = 1.0\n",
    "\n",
    "print(\"One-sample t-test against a hpothesised mean\")\n",
    "print(\"t_stat = \", t_stat)\n",
    "print(\"p_value = \", p_value)\n",
    "\n",
    "if p_value < alpha:\n",
    "    print(\"\\nConclusion: Reject the null hypothesis (H₀).\")\n",
    "else:\n",
    "    print(\"\\nConclusion: Fail to reject the null hypothesis (H₀).\")\n"
   ]
  }
 ],
 "metadata": {
  "kernelspec": {
   "display_name": "Python 3",
   "language": "python",
   "name": "python3"
  },
  "language_info": {
   "codemirror_mode": {
    "name": "ipython",
    "version": 3
   },
   "file_extension": ".py",
   "mimetype": "text/x-python",
   "name": "python",
   "nbconvert_exporter": "python",
   "pygments_lexer": "ipython3",
   "version": "3.12.9"
  }
 },
 "nbformat": 4,
 "nbformat_minor": 2
}
