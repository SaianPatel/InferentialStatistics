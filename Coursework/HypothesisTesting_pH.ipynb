{
 "cells": [
  {
   "cell_type": "code",
   "execution_count": 1,
   "metadata": {},
   "outputs": [],
   "source": [
    "import pandas as pd\n",
    "import numpy as np\n",
    "import scipy.stats as stats\n",
    "import matplotlib.pyplot as plt"
   ]
  },
  {
   "cell_type": "code",
   "execution_count": 2,
   "metadata": {},
   "outputs": [
    {
     "name": "stderr",
     "output_type": "stream",
     "text": [
      "<>:2: SyntaxWarning: invalid escape sequence '\\w'\n",
      "<>:2: SyntaxWarning: invalid escape sequence '\\w'\n",
      "C:\\Users\\Saian\\AppData\\Local\\Temp\\ipykernel_6308\\1186338799.py:2: SyntaxWarning: invalid escape sequence '\\w'\n",
      "  file_path = \"Data\\winequality-red.csv\"  # Update if needed\n"
     ]
    }
   ],
   "source": [
    "# Load the dataset\n",
    "file_path = \"Data\\winequality-red.csv\"  # Update if needed\n",
    "df = pd.read_csv(file_path)"
   ]
  },
  {
   "cell_type": "code",
   "execution_count": 7,
   "metadata": {},
   "outputs": [
    {
     "name": "stdout",
     "output_type": "stream",
     "text": [
      "Mean pH: 3.3111131957473416\n"
     ]
    }
   ],
   "source": [
    "# Get pH column\n",
    "pH = df['pH'].dropna()\n",
    "\n",
    "# Print mean pH for sanity\n",
    "mean_pH = np.mean(pH)\n",
    "print(f\"Mean pH: {mean_pH}\")"
   ]
  },
  {
   "cell_type": "code",
   "execution_count": 4,
   "metadata": {},
   "outputs": [
    {
     "name": "stdout",
     "output_type": "stream",
     "text": [
      "Entries: 1599\n"
     ]
    }
   ],
   "source": [
    "\n",
    "# Count how many entries\n",
    "nEntries = pH.count()\n",
    "print(f\"Entries: {nEntries}\")\n"
   ]
  },
  {
   "cell_type": "code",
   "execution_count": 11,
   "metadata": {},
   "outputs": [
    {
     "name": "stdout",
     "output_type": "stream",
     "text": [
      "One-sample t-test against a hpothesised mean\n",
      "t_stat =  -23.022490434071052\n",
      "p_value =  1.5992055282971605e-101\n",
      "\n",
      "Conclusion: Reject the null hypothesis (H₀).\n"
     ]
    }
   ],
   "source": [
    "# Perform a t-test against the hypothesised mean\n",
    "mu = 3.4\n",
    "t_stat, p_value = stats.ttest_1samp(pH, popmean=mu)\n",
    "\n",
    "# Display the results\n",
    "print(\"One-sample t-test against a hpothesised mean\")\n",
    "print(\"t_stat = \", t_stat)\n",
    "print(\"p_value = \", p_value)\n",
    "\n",
    "# Check against the significance level\n",
    "alpha = 0.05\n",
    "if p_value < alpha:\n",
    "    print(\"\\nConclusion: Reject the null hypothesis (H₀).\")\n",
    "else:\n",
    "    print(\"\\nConclusion: Fail to reject the null hypothesis (H₀).\")"
   ]
  },
  {
   "cell_type": "code",
   "execution_count": 17,
   "metadata": {},
   "outputs": [
    {
     "name": "stdout",
     "output_type": "stream",
     "text": [
      "Population-based Standard Error of the Difference = 0.526229\n",
      "Z-score = -2.460317\n",
      "p-value = 0.013881421244196395\n"
     ]
    }
   ],
   "source": [
    "# Manual Approach\n",
    "std_high_quality = np.std(high_quality)\n",
    "mean_high_quality = np.mean(high_quality)\n",
    "\n",
    "std_low_quality = np.std(low_quality)\n",
    "mean_low_quality = np.mean(low_quality)\n",
    "\n",
    "# Calculate SE of difference - population based\n",
    "SE_diff = np.sqrt(np.square(std_high_quality) / nHighQuality + np.square(std_low_quality) / nLowQuality)\n",
    "print(f\"Population-based Standard Error of the Difference = {SE_diff:3f}\")\n",
    "\n",
    "# Calculate Z\n",
    "Z = ((mean_high_quality - mean_low_quality) - 0) / SE_diff\n",
    "print(f\"Z-score = {Z:3f}\")\n",
    "\n",
    "#  Calculate p-value - p >= |Z|\n",
    "p_value_manual = stats.norm.sf(abs(Z)) * 2 # Two-sided\n",
    "print(f\"p-value = {p_value_manual}\")\n"
   ]
  },
  {
   "cell_type": "code",
   "execution_count": 18,
   "metadata": {},
   "outputs": [
    {
     "name": "stdout",
     "output_type": "stream",
     "text": [
      "Required sample size per group =  22.021089673603985\n",
      "Power with n = 20 per group = 0.868953\n"
     ]
    }
   ],
   "source": [
    "# Power Analysis - Analytical Approach\n",
    "\n",
    "from statsmodels.stats.power import TTestIndPower\n",
    "\n",
    "# Instantiate TTestIndPower class\n",
    "analysis = TTestIndPower()\n",
    "\n",
    "# Anticipated difference\n",
    "difference = 1.0\n",
    "\n",
    "# Assumed standard deviation\n",
    "std = 1.0\n",
    "\n",
    "# Cohen's d: Effect Size = (difference / std)\n",
    "effect_size = difference / std\n",
    "\n",
    "# Set significance level and power\n",
    "alpha = 0.05\n",
    "power = 0.90\n",
    "\n",
    "# Solve for sample size per group\n",
    "sample_size = analysis.solve_power(effect_size=effect_size,\n",
    "                                   alpha=alpha,\n",
    "                                   power=power,\n",
    "                                   alternative='two-sided')\n",
    "\n",
    "# Display the result\n",
    "print(\"Required sample size per group = \", sample_size)\n",
    "\n",
    "#  Suppose we fix n per group, find the power\n",
    "nFix = 20\n",
    "my_power = analysis.solve_power(effect_size=effect_size,\n",
    "                          alpha=alpha,\n",
    "                          nobs1=nFix,\n",
    "                          alternative='two-sided')\n",
    "\n",
    "# Display the result\n",
    "print(f\"Power with n = {nFix} per group = {my_power:3f}\")"
   ]
  },
  {
   "cell_type": "code",
   "execution_count": 19,
   "metadata": {},
   "outputs": [
    {
     "name": "stdout",
     "output_type": "stream",
     "text": [
      "Simulated power estimate gives power = 0.873200\n"
     ]
    }
   ],
   "source": [
    "# Power Analysis - Simulated Approach\n",
    "\n",
    "# Build a function for simulating power\n",
    "def simulate_power(n=20, true_diff=1.0, sigma=1.0, alpha=0.05, reps=5000):\n",
    "\n",
    "    # Estimate power for a two-sample t-test (equal variances) via simulation\n",
    "\n",
    "    np.random.seed(42)\n",
    "    rejects = 0\n",
    "\n",
    "    for _ in range(reps):\n",
    "\n",
    "        group1 = np.random.normal(loc=0, scale=sigma, size=n)\n",
    "        group2 = np.random.normal(loc=true_diff, scale=sigma, size=n)\n",
    "\n",
    "        # Apply a two-sample t-test\n",
    "        t_stat, p_val = stats.ttest_ind(group1, group2, equal_var=True)\n",
    "\n",
    "        # Check if p_val < alpha, reject H0 if so\n",
    "        if p_val < alpha:\n",
    "\n",
    "            # Increment rejects\n",
    "            rejects += 1\n",
    "\n",
    "    # Fraction of rejections approximates power\n",
    "    power_est = rejects / reps\n",
    "    return power_est\n",
    "\n",
    "\n",
    "#  Call the function\n",
    "power_sim = simulate_power(n=20, true_diff=1.0, sigma=1.0, alpha=0.05, reps=5000)\n",
    "\n",
    "#  Display the result\n",
    "print(f\"Simulated power estimate gives power = {power_sim:3f}\")"
   ]
  }
 ],
 "metadata": {
  "kernelspec": {
   "display_name": "Python 3",
   "language": "python",
   "name": "python3"
  },
  "language_info": {
   "codemirror_mode": {
    "name": "ipython",
    "version": 3
   },
   "file_extension": ".py",
   "mimetype": "text/x-python",
   "name": "python",
   "nbconvert_exporter": "python",
   "pygments_lexer": "ipython3",
   "version": "3.12.9"
  }
 },
 "nbformat": 4,
 "nbformat_minor": 2
}
