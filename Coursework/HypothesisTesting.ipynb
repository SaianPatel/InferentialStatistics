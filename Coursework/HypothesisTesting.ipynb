{
 "cells": [
  {
   "cell_type": "code",
   "execution_count": 1,
   "metadata": {},
   "outputs": [],
   "source": [
    "import pandas as pd\n",
    "import numpy as np\n",
    "import scipy.stats as stats"
   ]
  },
  {
   "cell_type": "code",
   "execution_count": 3,
   "metadata": {},
   "outputs": [
    {
     "name": "stderr",
     "output_type": "stream",
     "text": [
      "<>:2: SyntaxWarning: invalid escape sequence '\\w'\n",
      "<>:2: SyntaxWarning: invalid escape sequence '\\w'\n",
      "C:\\Users\\Saian\\AppData\\Local\\Temp\\ipykernel_14464\\1186338799.py:2: SyntaxWarning: invalid escape sequence '\\w'\n",
      "  file_path = \"Data\\winequality-red.csv\"  # Update if needed\n"
     ]
    }
   ],
   "source": [
    "# Load the dataset\n",
    "file_path = \"Data\\winequality-red.csv\"  # Update if needed\n",
    "df = pd.read_csv(file_path)"
   ]
  },
  {
   "cell_type": "code",
   "execution_count": 4,
   "metadata": {},
   "outputs": [],
   "source": [
    "# Define the two groups: higher quality and lower quality\n",
    "# Higher quality is >=6 and lower quality is <=5\n",
    "group_6 = df[df['quality'] >= 6]['alcohol'].dropna()\n",
    "group_5 = df[df['quality'] <= 5]['alcohol'].dropna()"
   ]
  },
  {
   "cell_type": "code",
   "execution_count": 5,
   "metadata": {},
   "outputs": [
    {
     "name": "stdout",
     "output_type": "stream",
     "text": [
      "\n",
      "Two-Sample t-Test (Welch's) Results:\n",
      "Null Hypothesis (H₀): Mean alcohol content for quality 6 and 5 is equal\n",
      "Alternative Hypothesis (H₁): Mean alcohol content is different between quality 6 and 5\n",
      "t-statistic: 19.7822\n",
      "p-value: 0.0000\n",
      "Mean Difference: 0.9286\n",
      "95% Confidence Interval: (0.8366, 1.0206)\n",
      "\n",
      "Conclusion: Reject the null hypothesis (H₀). There is a significant difference in alcohol content between wines of quality 6 and 5.\n"
     ]
    }
   ],
   "source": [
    "# Perform an independent samples t-test (Welch's t-test, assumes unequal variances)\n",
    "t_stat, p_value = stats.ttest_ind(group_6, group_5, equal_var=False)\n",
    "\n",
    "# Compute 95% Confidence Interval for the difference in means\n",
    "mean_diff = np.mean(group_6) - np.mean(group_5)\n",
    "se_diff = np.sqrt(np.var(group_6, ddof=1)/len(group_6) + np.var(group_5, ddof=1)/len(group_5))\n",
    "ci_lower = mean_diff - 1.96 * se_diff  # 95% CI lower bound\n",
    "ci_upper = mean_diff + 1.96 * se_diff  # 95% CI upper bound\n",
    "\n",
    "# Display results\n",
    "print(\"\\nTwo-Sample t-Test (Welch's) Results:\")\n",
    "print(f\"Null Hypothesis (H₀): Mean alcohol content for quality 6 and 5 is equal\")\n",
    "print(f\"Alternative Hypothesis (H₁): Mean alcohol content is different between quality 6 and 5\")\n",
    "print(f\"t-statistic: {t_stat:.4f}\")\n",
    "print(f\"p-value: {p_value:.4f}\")\n",
    "print(f\"Mean Difference: {mean_diff:.4f}\")\n",
    "print(f\"95% Confidence Interval: ({ci_lower:.4f}, {ci_upper:.4f})\")\n",
    "\n",
    "# Interpretation\n",
    "alpha = 0.05\n",
    "if p_value < alpha:\n",
    "    print(\"\\nConclusion: Reject the null hypothesis (H₀). There is a significant difference in alcohol content between wines of quality 6 and 5.\")\n",
    "else:\n",
    "    print(\"\\nConclusion: Fail to reject the null hypothesis (H₀). There is no significant difference in alcohol content between wines of quality 6 and 5.\")"
   ]
  }
 ],
 "metadata": {
  "kernelspec": {
   "display_name": "Python 3",
   "language": "python",
   "name": "python3"
  },
  "language_info": {
   "codemirror_mode": {
    "name": "ipython",
    "version": 3
   },
   "file_extension": ".py",
   "mimetype": "text/x-python",
   "name": "python",
   "nbconvert_exporter": "python",
   "pygments_lexer": "ipython3",
   "version": "3.12.9"
  }
 },
 "nbformat": 4,
 "nbformat_minor": 2
}
