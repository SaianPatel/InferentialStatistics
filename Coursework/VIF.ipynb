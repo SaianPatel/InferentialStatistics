{
 "cells": [
  {
   "cell_type": "code",
   "execution_count": 1,
   "metadata": {},
   "outputs": [],
   "source": [
    "import pandas as pd\n",
    "import numpy as np\n",
    "import statsmodels.api as sm\n",
    "from statsmodels.stats.outliers_influence import variance_inflation_factor\n"
   ]
  },
  {
   "cell_type": "code",
   "execution_count": 2,
   "metadata": {},
   "outputs": [
    {
     "name": "stderr",
     "output_type": "stream",
     "text": [
      "<>:2: SyntaxWarning: invalid escape sequence '\\w'\n",
      "<>:2: SyntaxWarning: invalid escape sequence '\\w'\n",
      "C:\\Users\\Saian\\AppData\\Local\\Temp\\ipykernel_18004\\3946586686.py:2: SyntaxWarning: invalid escape sequence '\\w'\n",
      "  df = pd.read_csv(\"Data\\winequality-red.csv\")\n"
     ]
    }
   ],
   "source": [
    "\n",
    "# Load the dataset (ensure the correct file path)\n",
    "df = pd.read_csv(\"Data\\winequality-red.csv\")\n",
    "\n"
   ]
  },
  {
   "cell_type": "code",
   "execution_count": 3,
   "metadata": {},
   "outputs": [
    {
     "name": "stdout",
     "output_type": "stream",
     "text": [
      "                 Feature       VIF\n",
      "1          fixed acidity  7.767512\n",
      "2       volatile acidity  1.789390\n",
      "3            citric acid  3.128022\n",
      "4         residual sugar  1.702588\n",
      "5              chlorides  1.481932\n",
      "6    free sulfur dioxide  1.963019\n",
      "7   total sulfur dioxide  2.186813\n",
      "8                density  6.343760\n",
      "9                     pH  3.329732\n",
      "10             sulphates  1.429434\n",
      "11               alcohol  3.031160\n"
     ]
    }
   ],
   "source": [
    "# Select numerical features for VIF calculation (excluding the target variable 'quality' if needed)\n",
    "features = ['fixed acidity', 'volatile acidity', 'citric acid', 'residual sugar', \n",
    "            'chlorides', 'free sulfur dioxide', 'total sulfur dioxide', 'density', \n",
    "            'pH', 'sulphates', 'alcohol']\n",
    "\n",
    "# Subset the dataframe with only selected features\n",
    "df_vif = df[features].dropna()  # Ensure no missing values\n",
    "\n",
    "# Add a constant column for VIF calculation (required for regression)\n",
    "X = sm.add_constant(df_vif)\n",
    "\n",
    "# Compute VIF for each feature\n",
    "vif_data = pd.DataFrame({\n",
    "    \"Feature\": X.columns,\n",
    "    \"VIF\": [variance_inflation_factor(X.values, i) for i in range(X.shape[1])]\n",
    "})\n",
    "\n",
    "# Drop the constant column from the results\n",
    "vif_data = vif_data[vif_data[\"Feature\"] != \"const\"]\n",
    "\n",
    "# Display the VIF results\n",
    "print(vif_data)"
   ]
  }
 ],
 "metadata": {
  "kernelspec": {
   "display_name": "Python 3",
   "language": "python",
   "name": "python3"
  },
  "language_info": {
   "codemirror_mode": {
    "name": "ipython",
    "version": 3
   },
   "file_extension": ".py",
   "mimetype": "text/x-python",
   "name": "python",
   "nbconvert_exporter": "python",
   "pygments_lexer": "ipython3",
   "version": "3.12.9"
  }
 },
 "nbformat": 4,
 "nbformat_minor": 2
}
