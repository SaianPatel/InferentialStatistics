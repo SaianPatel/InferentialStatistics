{
 "cells": [
  {
   "cell_type": "code",
   "execution_count": 1,
   "metadata": {},
   "outputs": [],
   "source": [
    "import pandas as pd\n",
    "import numpy as np\n",
    "import statsmodels.api as sm\n",
    "from statsmodels.stats.outliers_influence import variance_inflation_factor\n"
   ]
  },
  {
   "cell_type": "code",
   "execution_count": 2,
   "metadata": {},
   "outputs": [
    {
     "name": "stderr",
     "output_type": "stream",
     "text": [
      "<>:2: SyntaxWarning: invalid escape sequence '\\w'\n",
      "<>:2: SyntaxWarning: invalid escape sequence '\\w'\n",
      "C:\\Users\\Saian\\AppData\\Local\\Temp\\ipykernel_8488\\657517807.py:2: SyntaxWarning: invalid escape sequence '\\w'\n",
      "  df = pd.read_csv(\"Data\\winequality-red.csv\")\n"
     ]
    }
   ],
   "source": [
    "\n",
    "# Load the dataset (ensure the correct file path)\n",
    "df = pd.read_csv(\"Data\\winequality-red.csv\")"
   ]
  },
  {
   "cell_type": "code",
   "execution_count": null,
   "metadata": {},
   "outputs": [
    {
     "name": "stdout",
     "output_type": "stream",
     "text": [
      "                 Feature       VIF\n",
      "1          fixed acidity  2.975491\n",
      "2       volatile acidity  1.759879\n",
      "3            citric acid  3.127791\n",
      "4         residual sugar  1.099433\n",
      "5              chlorides  1.468893\n",
      "6    free sulfur dioxide  1.948691\n",
      "7   total sulfur dioxide  2.173240\n",
      "8                     pH  2.239412\n",
      "9              sulphates  1.341524\n",
      "10               alcohol  1.299603\n"
     ]
    }
   ],
   "source": [
    "# Select independent variables (excluding 'quality' since it's the target variable)\n",
    "features = [ 'density','volatile acidity', 'citric acid', 'residual sugar', \n",
    "            'chlorides', 'free sulfur dioxide', 'total sulfur dioxide',\n",
    "            'pH', 'sulphates', 'alcohol']\n",
    "\n",
    "# 'fixed acidity',\n",
    "#  \n",
    "# Prepare the feature matrix for VIF calculation\n",
    "X = df[features].dropna()  # Remove any missing values if present\n",
    "X = sm.add_constant(X)  # Add intercept term (required for statsmodels' VIF calculation)\n",
    "\n",
    "# Compute VIF for each feature\n",
    "vif_data = pd.DataFrame({\n",
    "    \"Feature\": X.columns,\n",
    "    \"VIF\": [variance_inflation_factor(X.values, i) for i in range(X.shape[1])]\n",
    "})\n",
    "\n",
    "# Drop the constant term from results\n",
    "vif_data = vif_data[vif_data[\"Feature\"] != \"const\"]\n",
    "\n",
    "# Display the results\n",
    "print(vif_data)\n"
   ]
  }
 ],
 "metadata": {
  "kernelspec": {
   "display_name": "Python 3",
   "language": "python",
   "name": "python3"
  },
  "language_info": {
   "codemirror_mode": {
    "name": "ipython",
    "version": 3
   },
   "file_extension": ".py",
   "mimetype": "text/x-python",
   "name": "python",
   "nbconvert_exporter": "python",
   "pygments_lexer": "ipython3",
   "version": "3.12.9"
  }
 },
 "nbformat": 4,
 "nbformat_minor": 2
}
