{
 "cells": [
  {
   "cell_type": "markdown",
   "metadata": {},
   "source": [
    "## 3. Hypothesis Testing"
   ]
  },
  {
   "cell_type": "code",
   "execution_count": 1,
   "metadata": {},
   "outputs": [],
   "source": [
    "# Import required modules\n",
    "import pandas as pd\n",
    "import numpy as np\n",
    "import scipy.stats as stats\n",
    "import matplotlib.pyplot as plt"
   ]
  },
  {
   "cell_type": "code",
   "execution_count": 2,
   "metadata": {},
   "outputs": [
    {
     "name": "stderr",
     "output_type": "stream",
     "text": [
      "<>:2: SyntaxWarning: invalid escape sequence '\\w'\n",
      "<>:2: SyntaxWarning: invalid escape sequence '\\w'\n",
      "C:\\Users\\Saian\\AppData\\Local\\Temp\\ipykernel_244\\1194014973.py:2: SyntaxWarning: invalid escape sequence '\\w'\n",
      "  df = pd.read_csv(\"Data\\winequality-red.csv\")\n"
     ]
    }
   ],
   "source": [
    "# Load the dataset\n",
    "df = pd.read_csv(\"Data\\winequality-red.csv\")"
   ]
  },
  {
   "cell_type": "markdown",
   "metadata": {},
   "source": [
    "### 3.1. Testing whether mean pH is larger than 3.30"
   ]
  },
  {
   "cell_type": "code",
   "execution_count": 3,
   "metadata": {},
   "outputs": [
    {
     "name": "stdout",
     "output_type": "stream",
     "text": [
      "Mean pH: 3.3111131957473416\n",
      "Entries: 1599\n"
     ]
    }
   ],
   "source": [
    "# Get pH column\n",
    "pH = df['pH'].dropna()\n",
    "\n",
    "# Print mean pH for verification\n",
    "mean_pH = np.mean(pH)\n",
    "print(f\"Mean pH: {mean_pH}\")\n",
    "\n",
    "# Count how many entries\n",
    "nEntries = pH.count()\n",
    "print(f\"Entries: {nEntries}\")"
   ]
  },
  {
   "cell_type": "markdown",
   "metadata": {},
   "source": [
    "Perform a one-tailed hypothesis test."
   ]
  },
  {
   "cell_type": "code",
   "execution_count": null,
   "metadata": {},
   "outputs": [
    {
     "name": "stdout",
     "output_type": "stream",
     "text": [
      "Single Tail Test against a hypothesized mean\n",
      "t_stat =  2.879319227251562\n",
      "p_value =  0.002019206511054028\n",
      "\n",
      "Conclusion: Reject the null hypothesis (H₀).\n"
     ]
    }
   ],
   "source": [
    "# Specify the hypothesized mean\n",
    "mu = 3.3\n",
    "\n",
    "# Specify the significance level\n",
    "alpha = 0.05\n",
    "\n",
    "# Specify the degrees of freedom\n",
    "dof = nEntries - 1\n",
    "\n",
    "# Get the sample mean and std\n",
    "sample_mean = np.mean(pH)\n",
    "sample_std = np.std(pH)\n",
    "\n",
    "# Compute standard error (SE)\n",
    "SE = sample_std / np.sqrt(nEntries)\n",
    "\n",
    "# Get the test statistic\n",
    "t_stat = (sample_mean - mu) / SE\n",
    "\n",
    "# p-value for right-tailed test:\n",
    "if t_stat > 0:\n",
    "    p_value = 1 - stats.t.cdf(t_stat, dof)\n",
    "\n",
    "else:\n",
    "    p_value = 1.0\n",
    "\n",
    "print(\"Single Tail Test against a hypothesized mean\")\n",
    "print(\"t_stat = \", t_stat)\n",
    "print(\"p_value = \", p_value)\n",
    "\n",
    "if p_value < alpha:\n",
    "    print(\"\\nConclusion: Reject the null hypothesis (H₀).\")\n",
    "else:\n",
    "    print(\"\\nConclusion: Fail to reject the null hypothesis (H₀).\")\n"
   ]
  },
  {
   "cell_type": "markdown",
   "metadata": {},
   "source": [
    "Calculate a 95% Confidence Interval (CI) using the t-distribution."
   ]
  },
  {
   "cell_type": "code",
   "execution_count": null,
   "metadata": {},
   "outputs": [
    {
     "name": "stdout",
     "output_type": "stream",
     "text": [
      "Sample mean (Height): 3.31\n",
      "95% CI using t-dist: [3.30, 3.32]\n"
     ]
    }
   ],
   "source": [
    "# Define the 2-sided t critical value\n",
    "t_crit = stats.t.ppf(1 - alpha/2, dof)\n",
    "\n",
    "# Define the margin of error\n",
    "margin_of_error = t_crit * SE\n",
    "\n",
    "# Compute upper and lower bounds\n",
    "ci_upper = sample_mean + margin_of_error\n",
    "ci_lower = sample_mean - margin_of_error\n",
    "\n",
    "# Display results\n",
    "print(f\"Sample mean (Height): {sample_mean:.2f}\")\n",
    "print(f\"95% CI using t-dist: [{ci_lower:.2f}, {ci_upper:.2f}]\")\n"
   ]
  }
 ],
 "metadata": {
  "kernelspec": {
   "display_name": "Python 3",
   "language": "python",
   "name": "python3"
  },
  "language_info": {
   "codemirror_mode": {
    "name": "ipython",
    "version": 3
   },
   "file_extension": ".py",
   "mimetype": "text/x-python",
   "name": "python",
   "nbconvert_exporter": "python",
   "pygments_lexer": "ipython3",
   "version": "3.12.9"
  }
 },
 "nbformat": 4,
 "nbformat_minor": 2
}
