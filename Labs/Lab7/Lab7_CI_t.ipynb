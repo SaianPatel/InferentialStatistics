{
 "cells": [
  {
   "cell_type": "code",
   "execution_count": 1,
   "metadata": {},
   "outputs": [],
   "source": [
    "# Import required modules\n",
    "import pandas as pd\n",
    "import numpy as np\n",
    "from scipy.stats import t, norm, ttest_1samp"
   ]
  },
  {
   "cell_type": "code",
   "execution_count": 2,
   "metadata": {},
   "outputs": [],
   "source": [
    "# Load the dataset\n",
    "df = pd.read_csv(\"heights_weights.csv\")\n",
    "\n",
    "# Extract the height column, dropping NaNs\n",
    "heights = df[\"Height\"].dropna()"
   ]
  },
  {
   "cell_type": "code",
   "execution_count": 3,
   "metadata": {},
   "outputs": [
    {
     "name": "stdout",
     "output_type": "stream",
     "text": [
      "Sample mean (Height): 170.04\n",
      "95% CI using t-dist: [168.57, 171.51]\n"
     ]
    }
   ],
   "source": [
    "# Sample size\n",
    "n = len(heights)\n",
    "\n",
    "# DoF for t-dist\n",
    "df_ = n - 1\n",
    "\n",
    "# Sample Mean\n",
    "sample_mean = np.mean(heights)\n",
    "\n",
    "# Sample std dev, unbiased\n",
    "sample_std = np.std(heights, ddof=1)\n",
    "\n",
    "# Significance level for a 95% CI\n",
    "alpha = 0.05\n",
    "\n",
    "# Standard Error\n",
    "SE = sample_std / np.sqrt(n)\n",
    "\n",
    "# 2-side t critical value\n",
    "t_crit = t.ppf(1 - alpha/2, df_)\n",
    "\n",
    "# Margin of error\n",
    "margin_of_error = t_crit * SE\n",
    "\n",
    "ci_lower = sample_mean - margin_of_error\n",
    "ci_upper = sample_mean + margin_of_error\n",
    "\n",
    "# Display results\n",
    "print(f\"Sample mean (Height): {sample_mean:.2f}\")\n",
    "print(f\"95% CI using t-dist: [{ci_lower:.2f}, {ci_upper:.2f}]\")"
   ]
  },
  {
   "cell_type": "code",
   "execution_count": null,
   "metadata": {},
   "outputs": [],
   "source": []
  }
 ],
 "metadata": {
  "kernelspec": {
   "display_name": "base",
   "language": "python",
   "name": "python3"
  },
  "language_info": {
   "codemirror_mode": {
    "name": "ipython",
    "version": 3
   },
   "file_extension": ".py",
   "mimetype": "text/x-python",
   "name": "python",
   "nbconvert_exporter": "python",
   "pygments_lexer": "ipython3",
   "version": "3.12.7"
  }
 },
 "nbformat": 4,
 "nbformat_minor": 2
}
