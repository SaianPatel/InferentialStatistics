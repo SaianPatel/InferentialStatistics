{
 "cells": [
  {
   "cell_type": "code",
   "execution_count": 1,
   "metadata": {},
   "outputs": [],
   "source": [
    "# Import required modules\n",
    "import pandas as pd\n",
    "import numpy as np\n",
    "from scipy.stats import t, norm, ttest_1samp"
   ]
  },
  {
   "cell_type": "code",
   "execution_count": 2,
   "metadata": {},
   "outputs": [],
   "source": [
    "# Load the dataset\n",
    "df = pd.read_csv(\"heights_weights.csv\")\n",
    "\n",
    "# Extract the height column, dropping NaNs\n",
    "heights = df[\"Height\"].dropna()"
   ]
  },
  {
   "cell_type": "code",
   "execution_count": 3,
   "metadata": {},
   "outputs": [],
   "source": [
    "# Get summary stats of the height data\n",
    "n = len(heights)\n",
    "df_ = n - 1\n",
    "mean_h = np.mean(heights)\n",
    "std_h = np.std(heights, ddof=1)\n",
    "SE = std_h / np.sqrt(n)"
   ]
  },
  {
   "cell_type": "code",
   "execution_count": 4,
   "metadata": {},
   "outputs": [],
   "source": [
    "# 95% CI (t-dist)\n",
    "alpha = 0.05\n",
    "t_crit = t.ppf(1 - alpha/2, df_)\n",
    "margin = t_crit * SE\n",
    "ci_low = mean_h - margin\n",
    "ci_high = mean_h + margin"
   ]
  },
  {
   "cell_type": "code",
   "execution_count": 5,
   "metadata": {},
   "outputs": [
    {
     "name": "stdout",
     "output_type": "stream",
     "text": [
      "====== 95% CI (t-based) ======\n",
      "Mean height: 170.04\n",
      "95% CI: [168.57, 171.51]\n"
     ]
    }
   ],
   "source": [
    "# Display results\n",
    "print(\"====== 95% CI (t-based) ======\")\n",
    "print(f\"Mean height: {mean_h:.2f}\")\n",
    "print(f\"95% CI: [{ci_low:.2f}, {ci_high:.2f}]\")"
   ]
  },
  {
   "cell_type": "code",
   "execution_count": 6,
   "metadata": {},
   "outputs": [
    {
     "name": "stdout",
     "output_type": "stream",
     "text": [
      "====== Two-Tailed T-Test (H0: mu=165) ======\n",
      "t-statistic = 6.753, p-value = 0.0000\n"
     ]
    }
   ],
   "source": [
    "# Two-tailed T-test: H0: mu=165\n",
    "res_t = ttest_1samp(heights, popmean=165)\n",
    "print(\"====== Two-Tailed T-Test (H0: mu=165) ======\")\n",
    "print(f\"t-statistic = {res_t.statistic:.3f}, p-value = {res_t.\n",
    "pvalue:.4f}\")"
   ]
  },
  {
   "cell_type": "code",
   "execution_count": 7,
   "metadata": {},
   "outputs": [
    {
     "name": "stdout",
     "output_type": "stream",
     "text": [
      "====== Two-Tailed Z-Test (H0: mu=165) ======\n",
      "z-statistic = 6.753, p-value = 0.0000\n"
     ]
    }
   ],
   "source": [
    "# Two-tailed Z-test for comparison\n",
    "z_stat = (mean_h - 165) / SE\n",
    "p_val_z = (1 - norm.cdf(abs(z_stat))) * 2\n",
    "print(\"====== Two-Tailed Z-Test (H0: mu=165) ======\")\n",
    "print(f\"z-statistic = {z_stat:.3f}, p-value = {p_val_z:.4f}\")"
   ]
  }
 ],
 "metadata": {
  "kernelspec": {
   "display_name": "base",
   "language": "python",
   "name": "python3"
  },
  "language_info": {
   "codemirror_mode": {
    "name": "ipython",
    "version": 3
   },
   "file_extension": ".py",
   "mimetype": "text/x-python",
   "name": "python",
   "nbconvert_exporter": "python",
   "pygments_lexer": "ipython3",
   "version": "3.12.7"
  }
 },
 "nbformat": 4,
 "nbformat_minor": 2
}
