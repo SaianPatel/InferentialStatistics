{
 "cells": [
  {
   "cell_type": "code",
   "execution_count": 1,
   "metadata": {},
   "outputs": [],
   "source": [
    "# Import required modules\n",
    "import pandas as pd\n",
    "import numpy as np\n",
    "from scipy.stats import t, norm, ttest_1samp"
   ]
  },
  {
   "cell_type": "code",
   "execution_count": 2,
   "metadata": {},
   "outputs": [],
   "source": [
    "# Load the dataset\n",
    "df = pd.read_csv(\"heights_weights.csv\")\n",
    "\n",
    "# Extract the height column, dropping NaNs\n",
    "heights = df[\"Height\"].dropna()"
   ]
  },
  {
   "cell_type": "code",
   "execution_count": 3,
   "metadata": {},
   "outputs": [
    {
     "name": "stdout",
     "output_type": "stream",
     "text": [
      "Two-tailed test: H0: mean=165, H1: mean != 165\n",
      "t-value = 6.753, p-value (two-sided) = 0.0000\n"
     ]
    }
   ],
   "source": [
    "mu_0 = 165\n",
    "res = ttest_1samp(heights, popmean=mu_0)\n",
    "\n",
    "# This returns a ’statistic’ (t-value) and a ’pvalue’ (two-sided)\n",
    "print(\"Two-tailed test: H0: mean=165, H1: mean != 165\")\n",
    "print(f\"t-value = {res.statistic:.3f}, p-value (two-sided) = {res.\n",
    "pvalue:.4f}\")"
   ]
  }
 ],
 "metadata": {
  "kernelspec": {
   "display_name": "base",
   "language": "python",
   "name": "python3"
  },
  "language_info": {
   "codemirror_mode": {
    "name": "ipython",
    "version": 3
   },
   "file_extension": ".py",
   "mimetype": "text/x-python",
   "name": "python",
   "nbconvert_exporter": "python",
   "pygments_lexer": "ipython3",
   "version": "3.12.7"
  }
 },
 "nbformat": 4,
 "nbformat_minor": 2
}
