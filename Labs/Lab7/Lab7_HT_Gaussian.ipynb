{
 "cells": [
  {
   "cell_type": "code",
   "execution_count": 1,
   "metadata": {},
   "outputs": [],
   "source": [
    "# Import required modules\n",
    "import pandas as pd\n",
    "import numpy as np\n",
    "from scipy.stats import t, norm, ttest_1samp"
   ]
  },
  {
   "cell_type": "code",
   "execution_count": 2,
   "metadata": {},
   "outputs": [],
   "source": [
    "# Load the dataset\n",
    "df = pd.read_csv(\"heights_weights.csv\")\n",
    "\n",
    "# Extract the height column, dropping NaNs\n",
    "heights = df[\"Height\"].dropna()"
   ]
  },
  {
   "cell_type": "code",
   "execution_count": 3,
   "metadata": {},
   "outputs": [],
   "source": [
    "# Sample size\n",
    "n = len(heights)\n",
    "\n",
    "# DoF for t-dist\n",
    "df_ = n - 1\n",
    "\n",
    "# Sample Mean\n",
    "sample_mean = np.mean(heights)\n",
    "\n",
    "# Sample std dev, unbiased\n",
    "sample_std = np.std(heights, ddof=1)\n",
    "\n",
    "# Standard Error\n",
    "SE = sample_std / np.sqrt(n)"
   ]
  },
  {
   "cell_type": "code",
   "execution_count": 5,
   "metadata": {},
   "outputs": [
    {
     "name": "stdout",
     "output_type": "stream",
     "text": [
      "Single-tailed test: H0: mean <= 165, H1: mean > 165\n",
      "z-stat = 6.753, p-value = 0.0000\n",
      "Reject H0 at alpha=0.05\n"
     ]
    }
   ],
   "source": [
    "# Null hypothesis value\n",
    "mu_0 = 165.0\n",
    "alpha = 0.05\n",
    "\n",
    "# Get the test statistic\n",
    "z_stat = (sample_mean - mu_0) / SE\n",
    "\n",
    "# Get the p-value\n",
    "p_value = (1 - norm.cdf(abs(z_stat))) * 2\n",
    "\n",
    "# Print results\n",
    "print(\"Single-tailed test: H0: mean <= 165, H1: mean > 165\")\n",
    "print(f\"z-stat = {z_stat:.3f}, p-value = {p_value:.4f}\")\n",
    "if p_value < alpha:\n",
    "    print(f\"Reject H0 at alpha={alpha}\")\n",
    "else:\n",
    "    print(f\"Fail to reject H0 at alpha={alpha}\")"
   ]
  }
 ],
 "metadata": {
  "kernelspec": {
   "display_name": "base",
   "language": "python",
   "name": "python3"
  },
  "language_info": {
   "codemirror_mode": {
    "name": "ipython",
    "version": 3
   },
   "file_extension": ".py",
   "mimetype": "text/x-python",
   "name": "python",
   "nbconvert_exporter": "python",
   "pygments_lexer": "ipython3",
   "version": "3.12.7"
  }
 },
 "nbformat": 4,
 "nbformat_minor": 2
}
