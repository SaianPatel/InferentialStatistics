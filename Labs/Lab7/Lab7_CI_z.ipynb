{
 "cells": [
  {
   "cell_type": "code",
   "execution_count": 1,
   "metadata": {},
   "outputs": [],
   "source": [
    "# Import required modules\n",
    "import pandas as pd\n",
    "import numpy as np\n",
    "from scipy.stats import t, norm, ttest_1samp"
   ]
  },
  {
   "cell_type": "code",
   "execution_count": 2,
   "metadata": {},
   "outputs": [],
   "source": [
    "# Load the dataset\n",
    "df = pd.read_csv(\"heights_weights.csv\")\n",
    "\n",
    "# Extract the height column, dropping NaNs\n",
    "heights = df[\"Height\"].dropna()"
   ]
  },
  {
   "cell_type": "code",
   "execution_count": null,
   "metadata": {},
   "outputs": [
    {
     "ename": "NameError",
     "evalue": "name 'ci_lower_z' is not defined",
     "output_type": "error",
     "traceback": [
      "\u001b[1;31m---------------------------------------------------------------------------\u001b[0m",
      "\u001b[1;31mNameError\u001b[0m                                 Traceback (most recent call last)",
      "Cell \u001b[1;32mIn[3], line 29\u001b[0m\n\u001b[0;32m     26\u001b[0m ci_upper \u001b[38;5;241m=\u001b[39m sample_mean \u001b[38;5;241m+\u001b[39m margin_of_error\n\u001b[0;32m     28\u001b[0m \u001b[38;5;66;03m# Display results\u001b[39;00m\n\u001b[1;32m---> 29\u001b[0m \u001b[38;5;28mprint\u001b[39m(\u001b[38;5;124mf\u001b[39m\u001b[38;5;124m\"\u001b[39m\u001b[38;5;124m99% CI using z-dist: [\u001b[39m\u001b[38;5;132;01m{\u001b[39;00mci_lower_z\u001b[38;5;132;01m:\u001b[39;00m\u001b[38;5;124m.2f\u001b[39m\u001b[38;5;132;01m}\u001b[39;00m\u001b[38;5;124m, \u001b[39m\u001b[38;5;132;01m{\u001b[39;00mci_upper_z\u001b[38;5;132;01m:\u001b[39;00m\u001b[38;5;124m.2f\u001b[39m\u001b[38;5;132;01m}\u001b[39;00m\u001b[38;5;124m]\u001b[39m\u001b[38;5;124m\"\u001b[39m)\n",
      "\u001b[1;31mNameError\u001b[0m: name 'ci_lower_z' is not defined"
     ]
    }
   ],
   "source": [
    "# Sample size\n",
    "n = len(heights)\n",
    "\n",
    "# DoF for t-dist\n",
    "df_ = n - 1\n",
    "\n",
    "# Sample Mean\n",
    "sample_mean = np.mean(heights)\n",
    "\n",
    "# Sample std dev, unbiased\n",
    "sample_std = np.std(heights, ddof=1)\n",
    "\n",
    "# Significance level for a 99% CI\n",
    "alpha = 0.01\n",
    "\n",
    "# Standard Error\n",
    "SE = sample_std / np.sqrt(n)\n",
    "\n",
    "# 2-side z critical value\n",
    "z_crit = norm.ppf(1 - alpha/2)\n",
    "\n",
    "# Margin of error\n",
    "margin_of_error = z_crit * SE\n",
    "\n",
    "ci_lower = sample_mean - margin_of_error\n",
    "ci_upper = sample_mean + margin_of_error\n",
    "\n",
    "# Display results\n",
    "print(f\"99% CI using z-dist: [{ci_lower:.2f}, {ci_upper:.2f}]\")"
   ]
  },
  {
   "cell_type": "code",
   "execution_count": null,
   "metadata": {},
   "outputs": [],
   "source": []
  }
 ],
 "metadata": {
  "kernelspec": {
   "display_name": "base",
   "language": "python",
   "name": "python3"
  },
  "language_info": {
   "codemirror_mode": {
    "name": "ipython",
    "version": 3
   },
   "file_extension": ".py",
   "mimetype": "text/x-python",
   "name": "python",
   "nbconvert_exporter": "python",
   "pygments_lexer": "ipython3",
   "version": "3.12.7"
  }
 },
 "nbformat": 4,
 "nbformat_minor": 2
}
