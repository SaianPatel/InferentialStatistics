{
 "cells": [
  {
   "cell_type": "code",
   "execution_count": 2,
   "metadata": {},
   "outputs": [],
   "source": [
    "import numpy as np\n",
    "import matplotlib.pyplot as plt\n",
    "from scipy.stats import linregress\n",
    "import pandas as pd\n",
    "import statsmodels.api as sm"
   ]
  },
  {
   "cell_type": "code",
   "execution_count": 3,
   "metadata": {},
   "outputs": [],
   "source": [
    "# Load the dataset\n",
    "df = pd.read_csv(\"winequality-red.csv\")"
   ]
  },
  {
   "cell_type": "code",
   "execution_count": 12,
   "metadata": {},
   "outputs": [],
   "source": [
    "# Choose x's and y\n",
    "X = df[['alcohol', 'free sulfur dioxide', 'volatile acidity']].to_numpy()\n",
    "y = df['quality'].dropna()"
   ]
  },
  {
   "cell_type": "code",
   "execution_count": 13,
   "metadata": {},
   "outputs": [
    {
     "name": "stdout",
     "output_type": "stream",
     "text": [
      "                            OLS Regression Results                            \n",
      "==============================================================================\n",
      "Dep. Variable:                quality   R-squared:                       0.318\n",
      "Model:                            OLS   Adj. R-squared:                  0.316\n",
      "Method:                 Least Squares   F-statistic:                     247.5\n",
      "Date:                Wed, 12 Mar 2025   Prob (F-statistic):          7.62e-132\n",
      "Time:                        16:26:00   Log-Likelihood:                -1621.1\n",
      "No. Observations:                1599   AIC:                             3250.\n",
      "Df Residuals:                    1595   BIC:                             3272.\n",
      "Df Model:                           3                                         \n",
      "Covariance Type:            nonrobust                                         \n",
      "==============================================================================\n",
      "                 coef    std err          t      P>|t|      [0.025      0.975]\n",
      "------------------------------------------------------------------------------\n",
      "const          3.1429      0.189     16.671      0.000       2.773       3.513\n",
      "x1             0.3124      0.016     19.466      0.000       0.281       0.344\n",
      "x2            -0.0020      0.002     -1.219      0.223      -0.005       0.001\n",
      "x3            -1.3866      0.095    -14.552      0.000      -1.573      -1.200\n",
      "==============================================================================\n",
      "Omnibus:                       17.886   Durbin-Watson:                   1.741\n",
      "Prob(Omnibus):                  0.000   Jarque-Bera (JB):               27.242\n",
      "Skew:                          -0.078   Prob(JB):                     1.21e-06\n",
      "Kurtosis:                       3.620   Cond. No.                         246.\n",
      "==============================================================================\n",
      "\n",
      "Notes:\n",
      "[1] Standard Errors assume that the covariance matrix of the errors is correctly specified.\n"
     ]
    }
   ],
   "source": [
    "# Fit the model\n",
    "X = sm.add_constant(X)\n",
    "model = sm.OLS(y, X).fit()\n",
    "print(model.summary())"
   ]
  }
 ],
 "metadata": {
  "kernelspec": {
   "display_name": "Python 3",
   "language": "python",
   "name": "python3"
  },
  "language_info": {
   "codemirror_mode": {
    "name": "ipython",
    "version": 3
   },
   "file_extension": ".py",
   "mimetype": "text/x-python",
   "name": "python",
   "nbconvert_exporter": "python",
   "pygments_lexer": "ipython3",
   "version": "3.12.9"
  }
 },
 "nbformat": 4,
 "nbformat_minor": 2
}
