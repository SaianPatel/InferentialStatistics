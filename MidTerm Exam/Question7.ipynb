{
 "metadata": {
  "language_info": {
   "codemirror_mode": {
    "name": "ipython",
    "version": 3
   },
   "file_extension": ".py",
   "mimetype": "text/x-python",
   "name": "python",
   "nbconvert_exporter": "python",
   "pygments_lexer": "ipython3",
   "version": "3.9.12-final"
  },
  "orig_nbformat": 2,
  "kernelspec": {
   "name": "python3",
   "display_name": "Python 3.9.12 64-bit ('base': conda)",
   "metadata": {
    "interpreter": {
     "hash": "344443636c3027c5042750c9c609acdda283a9c43681b128a8c1053e7ad2aa7d"
    }
   }
  }
 },
 "nbformat": 4,
 "nbformat_minor": 2,
 "cells": [
  {
   "cell_type": "code",
   "execution_count": 1,
   "metadata": {},
   "outputs": [],
   "source": [
    "from scipy.stats import norm\n"
   ]
  },
  {
   "cell_type": "code",
   "execution_count": 2,
   "metadata": {},
   "outputs": [],
   "source": [
    "# Set the mean of the Normal Distribution\n",
    "mu = 50\n",
    "\n",
    "# Set the standard deviation of the Normal Distribution\n",
    "sigma = 4\n"
   ]
  },
  {
   "cell_type": "code",
   "execution_count": 4,
   "metadata": {},
   "outputs": [
    {
     "output_type": "stream",
     "name": "stdout",
     "text": [
      "\nP(S ≤ 45) for S ~ N(50, 4^2) is 0.1056\n"
     ]
    }
   ],
   "source": [
    "# Calculate Pr(S ≤ 45) using the cdf\n",
    "p_45 = norm(mu, sigma).cdf(45)\n",
    "\n",
    "print(f\"\\nP(S ≤ 45) for S ~ N(50, 4^2) is {p_45:.4f}\")"
   ]
  },
  {
   "cell_type": "code",
   "execution_count": 5,
   "metadata": {},
   "outputs": [
    {
     "output_type": "stream",
     "name": "stdout",
     "text": [
      "\nP(48 ≤ S ≤ 55) for S ~ N(50, 4^2) is 0.5858\n"
     ]
    }
   ],
   "source": [
    "# Calculate Pr(48 ≤ S ≤ 55) using the cdf\n",
    "p_48 = norm(mu, sigma).cdf(48)\n",
    "p_55 = norm(mu, sigma).cdf(55)\n",
    "p_48_to_55 = p_55 - p_48\n",
    "\n",
    "print(f\"\\nP(48 ≤ S ≤ 55) for S ~ N(50, 4^2) is {p_48_to_55:.4f}\")"
   ]
  }
 ]
}