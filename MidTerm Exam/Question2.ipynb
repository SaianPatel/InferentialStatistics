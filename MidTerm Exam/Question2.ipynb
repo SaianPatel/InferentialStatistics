{
 "metadata": {
  "language_info": {
   "codemirror_mode": {
    "name": "ipython",
    "version": 3
   },
   "file_extension": ".py",
   "mimetype": "text/x-python",
   "name": "python",
   "nbconvert_exporter": "python",
   "pygments_lexer": "ipython3",
   "version": "3.9.12-final"
  },
  "orig_nbformat": 2,
  "kernelspec": {
   "name": "python3",
   "display_name": "Python 3.9.12 64-bit ('base': conda)",
   "metadata": {
    "interpreter": {
     "hash": "344443636c3027c5042750c9c609acdda283a9c43681b128a8c1053e7ad2aa7d"
    }
   }
  }
 },
 "nbformat": 4,
 "nbformat_minor": 2,
 "cells": [
  {
   "cell_type": "code",
   "execution_count": 3,
   "metadata": {},
   "outputs": [],
   "source": [
    "from scipy.stats import bernoulli\n"
   ]
  },
  {
   "cell_type": "code",
   "execution_count": 6,
   "metadata": {},
   "outputs": [
    {
     "output_type": "stream",
     "name": "stdout",
     "text": [
      "\nProbability of Heads (Pr(X=1)) for a Bernoulli RV with p=0.55 is 0.550\n"
     ]
    }
   ],
   "source": [
    "# Set the probability of the Bernoulli RV\n",
    "p = 0.55\n",
    "\n",
    "p_Heads = bernoulli.pmf(1,p)\n",
    "\n",
    "print(f\"\\nProbability of Heads (Pr(X=1)) for a Bernoulli RV with p=0.55 is {p_Heads:.3f}\")"
   ]
  }
 ]
}