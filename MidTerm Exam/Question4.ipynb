{
 "cells": [
  {
   "cell_type": "code",
   "execution_count": 1,
   "metadata": {},
   "outputs": [],
   "source": [
    "from scipy.stats import binom\n"
   ]
  },
  {
   "cell_type": "code",
   "execution_count": 2,
   "metadata": {},
   "outputs": [
    {
     "name": "stdout",
     "output_type": "stream",
     "text": [
      "\n",
      "Pr(Y>28) for Y ~ B(30, 0.9) is 0.411\n"
     ]
    }
   ],
   "source": [
    "# Set the probability of success, p, for the Binomial RV\n",
    "p = 0.9\n",
    "\n",
    "# Set the number of trials, n, for the Binomial RV\n",
    "n = 30\n",
    "\n",
    "# Set the value of Y of interest\n",
    "y = 27\n",
    "\n",
    "# Calculate Pr(Y>= 28) (which is 1 - Pr(Y<=27))\n",
    "p_at_least_28 = 1 - binom.cdf(y, n, p)\n",
    "\n",
    "print(f\"\\nPr(Y>28) for Y ~ B(30, 0.9) is {p_at_least_28:.3f}\")"
   ]
  }
 ],
 "metadata": {
  "kernelspec": {
   "display_name": "base",
   "language": "python",
   "name": "python3"
  },
  "language_info": {
   "codemirror_mode": {
    "name": "ipython",
    "version": 3
   },
   "file_extension": ".py",
   "mimetype": "text/x-python",
   "name": "python",
   "nbconvert_exporter": "python",
   "pygments_lexer": "ipython3",
   "version": "3.12.7"
  },
  "orig_nbformat": 2
 },
 "nbformat": 4,
 "nbformat_minor": 2
}
