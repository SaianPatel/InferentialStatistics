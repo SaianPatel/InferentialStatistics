{
 "metadata": {
  "language_info": {
   "codemirror_mode": {
    "name": "ipython",
    "version": 3
   },
   "file_extension": ".py",
   "mimetype": "text/x-python",
   "name": "python",
   "nbconvert_exporter": "python",
   "pygments_lexer": "ipython3",
   "version": "3.9.12-final"
  },
  "orig_nbformat": 2,
  "kernelspec": {
   "name": "python3",
   "display_name": "Python 3.9.12 64-bit ('base': conda)",
   "metadata": {
    "interpreter": {
     "hash": "344443636c3027c5042750c9c609acdda283a9c43681b128a8c1053e7ad2aa7d"
    }
   }
  }
 },
 "nbformat": 4,
 "nbformat_minor": 2,
 "cells": [
  {
   "cell_type": "code",
   "execution_count": 1,
   "metadata": {},
   "outputs": [],
   "source": [
    "from scipy.stats import binom\n"
   ]
  },
  {
   "cell_type": "code",
   "execution_count": 2,
   "metadata": {},
   "outputs": [
    {
     "output_type": "stream",
     "name": "stdout",
     "text": [
      "\nPr(Y>28) for Y ~ B(30, 0.9) is 0.184\n"
     ]
    }
   ],
   "source": [
    "# Set the probability of success, p, for the Binomial RV\n",
    "p = 0.9\n",
    "\n",
    "# Set the number of trials, n, for the Binomial RV\n",
    "n = 30\n",
    "\n",
    "# Set the value of Y of interest\n",
    "y = 28\n",
    "\n",
    "# Calculate Pr(Y>= 28) (which is 1 - Pr(Y<=27))\n",
    "p_at_least_28 = 1 - binom.cdf(y, n, p)\n",
    "\n",
    "print(f\"\\nPr(Y>28) for Y ~ B(30, 0.9) is {p_at_least_28:.3f}\")"
   ]
  }
 ]
}